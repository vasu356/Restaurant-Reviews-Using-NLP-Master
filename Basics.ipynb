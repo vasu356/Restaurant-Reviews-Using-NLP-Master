{
 "cells": [
  {
   "cell_type": "code",
   "execution_count": null,
   "id": "f9d0ada3",
   "metadata": {
    "scrolled": true
   },
   "outputs": [],
   "source": [
    "from transformers import pipeline\n",
    "classifier = pipeline('sentiment-analysis')"
   ]
  },
  {
   "cell_type": "code",
   "execution_count": null,
   "id": "cbe7bcbf",
   "metadata": {},
   "outputs": [],
   "source": [
    "classifier(\"We are vary happy to see you.\")"
   ]
  },
  {
   "cell_type": "code",
   "execution_count": null,
   "id": "a9d47b7b",
   "metadata": {},
   "outputs": [],
   "source": [
    "classifier(\"I am not happy today, and the weather is also not good.\")"
   ]
  },
  {
   "cell_type": "code",
   "execution_count": null,
   "id": "9192db86",
   "metadata": {},
   "outputs": [],
   "source": []
  },
  {
   "cell_type": "code",
   "execution_count": null,
   "id": "b36a6f77",
   "metadata": {},
   "outputs": [],
   "source": []
  }
 ],
 "metadata": {
  "kernelspec": {
   "display_name": "Python 3 (ipykernel)",
   "language": "python",
   "name": "python3"
  },
  "language_info": {
   "codemirror_mode": {
    "name": "ipython",
    "version": 3
   },
   "file_extension": ".py",
   "mimetype": "text/x-python",
   "name": "python",
   "nbconvert_exporter": "python",
   "pygments_lexer": "ipython3",
   "version": "3.11.4"
  }
 },
 "nbformat": 4,
 "nbformat_minor": 5
}
